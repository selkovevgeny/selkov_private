{
 "cells": [
  {
   "cell_type": "code",
   "execution_count": 1,
   "id": "10911908",
   "metadata": {},
   "outputs": [],
   "source": [
    "import numpy as np\n",
    "from scipy import optimize"
   ]
  },
  {
   "cell_type": "markdown",
   "id": "fb29a73d",
   "metadata": {},
   "source": [
    "### Исходные данные"
   ]
  },
  {
   "attachments": {
    "image.png": {
     "image/png": "[encoded data removed]"
    }
   },
   "cell_type": "markdown",
   "id": "ed587ac2",
   "metadata": {},
   "source": [
    "![image.png](attachment:image.png)"
   ]
  },
  {
   "cell_type": "code",
   "execution_count": 2,
   "id": "61f59ed3",
   "metadata": {},
   "outputs": [],
   "source": [
    "#Сопротивления ветвей\n",
    "Z12 = 12 + 75.5j\n",
    "Z13 = 20 + 66.1j\n",
    "Z23 = 8.3 + 52.9j\n",
    "# ПРИМЕЧАНИЕ: Напряжения и мощности переведны в фазные величины\n",
    "# Мощности в узлах\n",
    "P2 = -20 * 1e6 / 3\n",
    "S3 = (100 + 40j)*1e6 / 3\n",
    "# Для простоты проверки второй задачи давайте зададимся:\n",
    "V1 = 230_000 / np.sqrt(3)\n",
    "d1 = 0\n",
    "V2 = 227000/ np.sqrt(3)"
   ]
  },
  {
   "cell_type": "markdown",
   "id": "1e55a931",
   "metadata": {},
   "source": [
    "### Решение"
   ]
  },
  {
   "cell_type": "markdown",
   "id": "88136f50",
   "metadata": {},
   "source": [
    "Система уравенений по МУН:\n",
    "$$\n",
    " Y_{11}  \\cdot \\dot U_{1} - Y_{12}\\cdot \\dot U_{2} - Y_{13}\\cdot \\dot U_{3} = \\dot J_{1}\\\\\n",
    " -Y_{12}  \\cdot \\dot U_{1} + Y_{22}\\cdot \\dot U_{2} - Y_{23}\\cdot \\dot U_{3} = \\dot J_{2}\\\\\n",
    " -Y_{13}  \\cdot \\dot U_{1} - Y_{23}\\cdot \\dot U_{2} + Y_{33}\\cdot \\dot U_{3} = \\dot J_{3}\n",
    "$$"
   ]
  },
  {
   "cell_type": "code",
   "execution_count": 3,
   "id": "e87014f3",
   "metadata": {},
   "outputs": [],
   "source": [
    "#Рассчитаем проводимости\n",
    "Y12 = 1 / Z12\n",
    "Y13 = 1 / Z13\n",
    "Y23 = 1 / Z23\n",
    "Y11 = Y12 + Y13\n",
    "Y22 = Y12 + Y23\n",
    "Y33 = Y23 + Y13"
   ]
  },
  {
   "cell_type": "code",
   "execution_count": 4,
   "id": "fde1f0b4",
   "metadata": {},
   "outputs": [],
   "source": [
    "#Матрица проводимостей\n",
    "Y = np.array([[Y11, -Y12, -Y13],\n",
    "             [-Y12, Y22, -Y23],\n",
    "             [-Y13, -Y23, Y33]])"
   ]
  },
  {
   "cell_type": "markdown",
   "id": "c485a731",
   "metadata": {},
   "source": [
    "Узел 1 - базисно-балансирующий. Исключим балансирущий узел из системы уравнений:\n",
    "$$\n",
    " w_{I2} = -Y_{12}  \\cdot \\dot U_{1} + Y_{22}\\cdot \\dot U_{2} - Y_{23}\\cdot \\dot U_{3} - \\dot J_{2}\\\\\n",
    " w_{I3} = -Y_{13}  \\cdot \\dot U_{1} - Y_{23}\\cdot \\dot U_{2} + Y_{33}\\cdot \\dot U_{3} - \\dot J_{3}\n",
    "$$"
   ]
  },
  {
   "cell_type": "markdown",
   "id": "bff184af",
   "metadata": {},
   "source": [
    "Перепишем систему уравнений в форме баланса мощностей:\n",
    "$$\n",
    " w_{S2} = -Y_{12}  \\cdot \\dot U_{1} \\cdot \\overset{*}{U_{2}} + Y_{22}\\cdot U_{2}^2 - Y_{23}\\cdot \\dot U_{3} \\cdot \\overset{*}{U_{2}} - \\dot S_{2}\\\\\n",
    " w_{S3} = -Y_{13}  \\cdot \\dot U_{1} \\cdot \\overset{*}{U_{3}}- Y_{23}\\cdot \\dot U_{2} \\cdot \\overset{*}{U_{3}} + Y_{33}\\cdot U_{3}^2  - \\dot S_{3}\n",
    "$$"
   ]
  },
  {
   "cell_type": "markdown",
   "id": "ec42f900",
   "metadata": {},
   "source": [
    "Напишем оптимизируемую функцию. При этом учитываем следующее:\n",
    "- каждое уравнение делится на вещественную и мнимую часть\n",
    "- напряжение в узле 2 задано по модулю и не известно по углу, поэтому модуль V2 принимаем известным, а угол d2 - переменная\n",
    "- активная мощность в узле 2 известна, реактивную нужно найти "
   ]
  },
  {
   "cell_type": "code",
   "execution_count": 5,
   "id": "d695937e",
   "metadata": {},
   "outputs": [],
   "source": [
    "def fun(v):\n",
    "    \"\"\"Функция расчета баланса мощностей\n",
    "    \n",
    "    param: v - [Q2, d2, re U3, im U3]\n",
    "    \n",
    "    return: w - баланс мощностей в узлах 2 и 3\n",
    "    \"\"\"\n",
    "    \n",
    "    v1 = V1\n",
    "    v2 = V2 * np.exp(1j*v[1])\n",
    "    v3 = v[2] + 1j*v[3]\n",
    "    res1 = np.real(Y22*np.abs(v2)**2 - Y23*v3*np.conj(v2) - P2 - 1j * v[0] - Y12*v1*np.conj(v2))\n",
    "    res2 = np.imag(Y22*np.abs(v2)**2 - Y23*v3*np.conj(v2) - P2 - 1j * v[0] - Y12*v1*np.conj(v2))\n",
    "    res3 = np.real(-Y23*v2*np.conj(v3) + Y33*np.abs(v3)**2 - S3 - Y13*v1*np.conj(v3))\n",
    "    res4 = np.imag(-Y23*v2*np.conj(v3) + Y33*np.abs(v3)**2 - S3 - Y13*v1*np.conj(v3))\n",
    "    return np.array((res1, res2, res3, res4))"
   ]
  },
  {
   "cell_type": "markdown",
   "id": "8a3bba60",
   "metadata": {},
   "source": [
    "Поиск решения нелинейного уравнения"
   ]
  },
  {
   "cell_type": "code",
   "execution_count": 6,
   "id": "64b62de4",
   "metadata": {},
   "outputs": [],
   "source": [
    "sol = optimize.root(fun, np.array((0, 0, V1, 0)), method='hybr')"
   ]
  },
  {
   "cell_type": "code",
   "execution_count": 7,
   "id": "c0128f01",
   "metadata": {},
   "outputs": [
    {
     "data": {
      "text/plain": [
       " message: The solution converged.\n",
       " success: True\n",
       "  status: 1\n",
       "     fun: [ 3.465e-07  1.028e-04  2.235e-06 -1.186e-05]\n",
       "       x: [-3.176e+05  3.637e-02  1.299e+05  1.082e+04]\n",
       "    nfev: 13\n",
       "    fjac: [[-3.173e-07  1.000e+00 -4.162e-04  1.913e-03]\n",
       "           [-8.596e-01  2.004e-05  5.014e-01  9.846e-02]\n",
       "           [ 1.699e-02 -1.955e-03 -1.645e-01  9.862e-01]\n",
       "           [-5.107e-01 -9.938e-05 -8.494e-01 -1.329e-01]]\n",
       "       r: [-9.763e-01  7.014e+07  3.272e+03  1.547e+01 -6.347e+08\n",
       "            2.622e+02  4.325e+03 -4.306e+03 -6.582e+01 -2.521e+03]\n",
       "     qtf: [-2.712e-02 -2.125e-06  2.566e-03  1.224e-04]"
      ]
     },
     "execution_count": 7,
     "metadata": {},
     "output_type": "execute_result"
    }
   ],
   "source": [
    "sol"
   ]
  },
  {
   "cell_type": "markdown",
   "id": "f0062eaa",
   "metadata": {},
   "source": [
    "### Результат"
   ]
  },
  {
   "cell_type": "code",
   "execution_count": 8,
   "id": "be9f6cca",
   "metadata": {},
   "outputs": [],
   "source": [
    "V1_res = V1\n",
    "V2_res = V2 * np.exp(1j*sol.x[1]) #sol.x[0] + 1j * sol.x[1] #V2 * np.exp(1j*sol.x[1])\n",
    "V3_res = sol.x[2] + 1j * sol.x[3]\n",
    "V_res = np.array((V1_res, V2_res, V3_res))"
   ]
  },
  {
   "cell_type": "code",
   "execution_count": 9,
   "id": "ccd37ca5",
   "metadata": {},
   "outputs": [
    {
     "name": "stdout",
     "output_type": "stream",
     "text": [
      "Количество итераций: 13\n"
     ]
    }
   ],
   "source": [
    "print(f'Количество итераций: {sol.nfev}')"
   ]
  },
  {
   "cell_type": "code",
   "execution_count": 10,
   "id": "846ea97c",
   "metadata": {},
   "outputs": [
    {
     "name": "stdout",
     "output_type": "stream",
     "text": [
      "Напряжения в узлах:\n",
      "U1 = 230.0, В; 0.0, гр\n",
      "U2 = 227.0, В; 2.1, гр\n",
      "U3 = 225.7, В; 4.8, гр\n"
     ]
    }
   ],
   "source": [
    "print(\"Напряжения в узлах:\")\n",
    "for ind, v  in enumerate(V_res):\n",
    "    print(f'U{ind+1} = {np.abs(v) * np.sqrt(3) / 1000:.1f}, В; {np.rad2deg(np.angle(v)):.1f}, гр')"
   ]
  },
  {
   "cell_type": "code",
   "execution_count": 11,
   "id": "68559633",
   "metadata": {},
   "outputs": [
    {
     "name": "stdout",
     "output_type": "stream",
     "text": [
      "P1 = -77.9, МВт; Q1 = -47.4, Мвар\n",
      "P2 = -20.0, МВт; Q2 = -1.0, Мвар\n",
      "P3 = 100.0, МВт; Q3 = 40.0, Мвар\n"
     ]
    }
   ],
   "source": [
    "#Мощности в узлах:\n",
    "S_res = np.dot(Y , V_res) * np.conj(V_res)*3 / 1e6\n",
    "for ind, s  in enumerate(S_res):\n",
    "    print(f'P{ind+1} = {np.real(s):.1f}, МВт; Q{ind+1} = {np.imag(s):.1f}, Мвар')"
   ]
  },
  {
   "cell_type": "markdown",
   "id": "42876bd6",
   "metadata": {},
   "source": [
    "### Проверка"
   ]
  },
  {
   "cell_type": "markdown",
   "id": "385e13a1",
   "metadata": {},
   "source": [
    "Проверим вручную, рассчитав мощность в узле"
   ]
  },
  {
   "cell_type": "code",
   "execution_count": 12,
   "id": "5374ebd4",
   "metadata": {},
   "outputs": [
    {
     "data": {
      "text/plain": [
       "(-77.93189134799346-47.36946188783993j)"
      ]
     },
     "execution_count": 12,
     "metadata": {},
     "output_type": "execute_result"
    }
   ],
   "source": [
    "# Узел 1\n",
    "((V1_res -V3_res) / Z13 + (V1_res-V2_res) / Z12) * np.conj(V1_res)*3 / 1e6"
   ]
  },
  {
   "cell_type": "code",
   "execution_count": 13,
   "id": "ea8f7fba",
   "metadata": {},
   "outputs": [
    {
     "data": {
      "text/plain": [
       "(-19.999999999999-0.9527717584667065j)"
      ]
     },
     "execution_count": 13,
     "metadata": {},
     "output_type": "execute_result"
    }
   ],
   "source": [
    "# Узел 2\n",
    "((V2_res -V3_res) / Z23 + (V2_res-V1_res) / Z12) * np.conj(V2_res)*3 / 1e6"
   ]
  },
  {
   "cell_type": "code",
   "execution_count": 14,
   "id": "e09cb810",
   "metadata": {},
   "outputs": [
    {
     "data": {
      "text/plain": [
       "(100.00000000000661+39.999999999964786j)"
      ]
     },
     "execution_count": 14,
     "metadata": {},
     "output_type": "execute_result"
    }
   ],
   "source": [
    "# Узел 3\n",
    "((V3_res -V1_res) / Z13 + (V3_res-V2_res) / Z23) * np.conj(V3_res)*3 / 1e6"
   ]
  },
  {
   "cell_type": "markdown",
   "id": "c13d249c",
   "metadata": {},
   "source": [
    "### Список литературы\n",
    "1. Меркурьев Г.В., Шаргин Ю.М. Устойчивость энергосистем (Шаргин Ю.М. читал нам курс лекций по данной теме, поэтому обратился к этому труду)"
   ]
  },
  {
   "cell_type": "code",
   "execution_count": null,
   "id": "2c2e5a66",
   "metadata": {},
   "outputs": [],
   "source": []
  }
 ],
 "metadata": {
  "kernelspec": {
   "display_name": "Python 3 (ipykernel)",
   "language": "python",
   "name": "python3"
  },
  "language_info": {
   "codemirror_mode": {
    "name": "ipython",
    "version": 3
   },
   "file_extension": ".py",
   "mimetype": "text/x-python",
   "name": "python",
   "nbconvert_exporter": "python",
   "pygments_lexer": "ipython3",
   "version": "3.9.13"
  }
 },
 "nbformat": 4,
 "nbformat_minor": 5
}
